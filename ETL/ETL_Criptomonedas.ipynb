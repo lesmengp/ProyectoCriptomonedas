{
 "cells": [
  {
   "cell_type": "markdown",
   "metadata": {},
   "source": [
    "# <h2 align=center> PROYECTO INDIVIDUAL Nº2 </h2>\n",
    "# <h1 align=center>Cryptocurrency Market Data Analytics</h1>\n",
    "        @autor: Lesmen Gerardo García Pernia"
   ]
  },
  {
   "cell_type": "markdown",
   "metadata": {},
   "source": [
    "#### Objetivo:<br> Realizar un análisis en el mercado de Criptomonedas para identificar oportunidades de inversión a Mediano Plazo,<Br> utilizando datos de la API CoinGecko.\n",
    "### Objetivo Específicos:<Br>\n",
    "1. Identificar monedas sobrecompradas o sobrevendidas en un período de tiempo específico.<br>\n",
    "2. Realizar seguimiento de cambios en la fuerza de la tendendia de las monedas. <br>\n",
    "3. Identificar cruces de linea de señal para identificar cambios potenciales en la tendencia de las monedas.<br>\n",
    "4. Analizar la divergencia entre el MACD y el precio de las monedas. <br>\n",
    "5. Evaluar el porcentaje de retorno promedio de las monedas en un período de tiempo específico. <br>  "
   ]
  },
  {
   "cell_type": "markdown",
   "metadata": {},
   "source": [
    "### Versiones de las librerias utilizadas<Br>\n",
    "+   pandas==1.3.5<Br>\n",
    "+   numpy==1.24.3<Br>\n",
    "+   pip==23.2.1<Br>\n",
    "+   typing-extensions==4.5.0<Br>\n",
    "+   uvicorn==0.20.0<Br>\n",
    "+   scikit-learn==1.0.2<Br>\n",
    "+   regex==2023.5.5<Br>\n",
    "+   matplotlib==3.7.1<Br>\n",
    "+   seaborn=0.12.2<Br>\n",
    "+   requests==2.31.0<Br>\n",
    "+   pycoingecko==3.1.0<Br>"
   ]
  },
  {
   "cell_type": "markdown",
   "metadata": {},
   "source": [
    "Importando Librerias"
   ]
  },
  {
   "cell_type": "code",
   "execution_count": 1,
   "metadata": {},
   "outputs": [],
   "source": [
    "import pandas as pd\n",
    "import numpy as np\n",
    "import os\n",
    "import matplotlib.pyplot as plt\n",
    "import seaborn as sns\n",
    "import json\n",
    "import requests\n",
    "from pycoingecko import CoinGeckoAPI\n",
    "from datetime import datetime, timedelta\n",
    "import random\n",
    "import pandas_ta as ta"
   ]
  },
  {
   "cell_type": "markdown",
   "metadata": {},
   "source": [
    "# 1) Extracción Transformación y Carga (ETL)"
   ]
  },
  {
   "cell_type": "markdown",
   "metadata": {},
   "source": [
    "### Fuente de datos:\n",
    "\n",
    "+ [API CoinGecko](https://www.coingecko.com/es/api/documentation): Sitio Web oficial de CoinGecko para el acceso a información de Criptomonedas a través de su API.\n",
    "\n",
    "\n",
    "<br/>"
   ]
  },
  {
   "cell_type": "markdown",
   "metadata": {},
   "source": [
    "Creando una instancia de la libreria CoinGecko"
   ]
  },
  {
   "cell_type": "code",
   "execution_count": 2,
   "metadata": {},
   "outputs": [],
   "source": [
    "cg = CoinGeckoAPI()"
   ]
  },
  {
   "cell_type": "markdown",
   "metadata": {},
   "source": [
    "### 1.1. Selección de las Monedas."
   ]
  },
  {
   "cell_type": "markdown",
   "metadata": {},
   "source": [
    "Se estarán seleccionando primeramente el 10% de las Criptomonedas existente en CoinGecko (más de 10.012 monedas), bajo el criterio principal de mayor Capitalización de Mercado y luego bajo el criterio secundario de mayor Volumen de Negociación.<Br>\n",
    "Luego de las primeras 200 Criptomonedas ordenadas por ambos criterios; se procede a seleccionar aleatoriamente, las 100 Criptomonedas para el análisis respectivo del presente proyecto. Y por ultimo, nos quedaremos con las 10 primeras. "
   ]
  },
  {
   "cell_type": "markdown",
   "metadata": {},
   "source": [
    "1. Total de Monedas en CoinGecko"
   ]
  },
  {
   "cell_type": "code",
   "execution_count": 3,
   "metadata": {},
   "outputs": [
    {
     "name": "stdout",
     "output_type": "stream",
     "text": [
      "La cantidad total de Criptomonedas en la API de CoinGecko es: 10214\n"
     ]
    }
   ],
   "source": [
    "### Verificando la cantidad total de Criptomonedas existentes en CoinGecko.\n",
    "\n",
    "# Obtener la lista de criptomonedas\n",
    "lista_Criptomonedas = cg.get_coins_list()\n",
    "\n",
    "# Contar la cantidad total de criptomonedas\n",
    "Total_lista_Criptomonedas = len(lista_Criptomonedas)\n",
    "\n",
    "# Imprimir la cantidad total de Criptomonedas\n",
    "print(f\"La cantidad total de Criptomonedas en la API de CoinGecko es: {Total_lista_Criptomonedas}\")"
   ]
  },
  {
   "cell_type": "markdown",
   "metadata": {},
   "source": [
    "2. Porcentaje de Monedas a seleccionar Inicialmente desde CoinGecko (10 %)"
   ]
  },
  {
   "cell_type": "code",
   "execution_count": 4,
   "metadata": {},
   "outputs": [
    {
     "name": "stdout",
     "output_type": "stream",
     "text": [
      "Porcentaje de Monedas a Seleccionar: 10 %\n",
      "Total de Monedas a Seleccionar: 1021\n",
      "Se estarán seleccionando primeramente 1021 Monedas, de un total de 10214, \n",
      "bajo el criterio inicial de mayor Capitalización de Mercado y luego bajo el criterio secundario de mayor Volumen de Negociación.\n"
     ]
    }
   ],
   "source": [
    "### Porcentaje a seleccionar de las Criptomonedas\n",
    "#=====================================\n",
    "PorcentajeMonedasSeleccionar = 10     ### Valor definido por el Proyecto y/o Cliente.\n",
    "#=====================================\n",
    "\n",
    "# Total de Monedas a seleccionar\n",
    "Total_Monedas =  round(Total_lista_Criptomonedas * PorcentajeMonedasSeleccionar / 100)\n",
    "\n",
    "print(f\"Porcentaje de Monedas a Seleccionar: {PorcentajeMonedasSeleccionar} %\")\n",
    "print(f\"Total de Monedas a Seleccionar: {Total_Monedas}\")\n",
    "print(f\"Se estarán seleccionando primeramente {Total_Monedas} Monedas, de un total de {Total_lista_Criptomonedas}, \\nbajo el criterio inicial de mayor Capitalización de Mercado y luego bajo el criterio secundario de mayor Volumen de Negociación.\")"
   ]
  },
  {
   "cell_type": "markdown",
   "metadata": {},
   "source": [
    "3. Listado de Criptomonedas Ordenadas por Capitalización de Mercado."
   ]
  },
  {
   "cell_type": "code",
   "execution_count": 6,
   "metadata": {},
   "outputs": [],
   "source": [
    "### Se ordenar las monedas por capitalización de mercado. \n",
    "MonedasOrdenadas = cg.get_coins_markets(vs_currency='usd', order='market_cap_desc', per_page=Total_Monedas)"
   ]
  },
  {
   "cell_type": "markdown",
   "metadata": {},
   "source": [
    "4. Listado de Criptomonedas Ordenadas por Volumen de Negociación."
   ]
  },
  {
   "cell_type": "code",
   "execution_count": 8,
   "metadata": {},
   "outputs": [],
   "source": [
    "### Luego se ordenar las monedas seleccionadas en función del Volumen de Negociación y seleccionamos solo las 200 primeras Monedas.\n",
    "MonedasOrdenadas.sort(key=lambda coin: coin['total_volume'], reverse=True)\n",
    "MonedasOrdenadas = MonedasOrdenadas[:200]"
   ]
  },
  {
   "cell_type": "markdown",
   "metadata": {},
   "source": [
    "5. Seleccion de Monedas (100), para el Análisis."
   ]
  },
  {
   "cell_type": "code",
   "execution_count": 9,
   "metadata": {},
   "outputs": [
    {
     "name": "stdout",
     "output_type": "stream",
     "text": [
      "IDs de las 100 monedas finalmente seleccionadas:\n",
      "['gmx', 'gnosis', 'gala', 'harmony', 'everscale', 'lido-staked-sol', 'ecomi', 'mask-network', 'first-digital-usd', 'pepe', 'ssv-network', 'aptos', 'apenft', 'flow', 'open-exchange-token', 'chainlink', 'uma', 'rocket-pool-eth', 'quant-network', 'yearn-finance', 'siacoin', 'monero', 'blockstack', 'gains-network', 'rollbit-coin', 'hedera-hashgraph', 'icon', 'zilliqa', 'litecoin', 'usdd', 'deso', 'dai', 'ontology', 'paxos-standard', 'swissborg', 'filecoin', 'iota', 'kadena', 'apecoin', 'ethereum-classic', 'aave', 'illuvium', 'usd-coin', 'cartesi', 'liquity-usd', 'bitget-token', 'neo', 'iostoken', 'arweave', 'havven', 'loopring', 'reserve-rights-token', '1inch', 'celo', 'qtum', 'nem', 'the-sandbox', 'kaspa', 'avalanche-2', 'terra-luna', 'zelcash', 'singularitynet', 'coredaoorg', 'bitcoin', 'the-open-network', 'aragon', 'enjincoin', 'radix', 'ocean-protocol', 'chia', 'thorchain', 'bitcoin-cash', 'theta-token', 'astar', 'convex-finance', 'bitcoin-avalanche-bridged-btc-b', 'worldcoin-wld', 'near', 'floki', 'algorand', 'vechain', 'mantle', 'fetch-ai', 'ethereum-pow-iou', 'basic-attention-token', 'huobi-token', 'jasmycoin', 'eos', 'bitcoin-gold', 'woo-network', 'rocket-pool', 'audius', 'compound-governance-token', 'render-token', 'lisk', 'binance-usd', 'chiliz', 'optimism', 'sushi', 'tominet']\n"
     ]
    },
    {
     "data": {
      "text/html": [
       "<div>\n",
       "<style scoped>\n",
       "    .dataframe tbody tr th:only-of-type {\n",
       "        vertical-align: middle;\n",
       "    }\n",
       "\n",
       "    .dataframe tbody tr th {\n",
       "        vertical-align: top;\n",
       "    }\n",
       "\n",
       "    .dataframe thead th {\n",
       "        text-align: right;\n",
       "    }\n",
       "</style>\n",
       "<table border=\"1\" class=\"dataframe\">\n",
       "  <thead>\n",
       "    <tr style=\"text-align: right;\">\n",
       "      <th></th>\n",
       "      <th>id</th>\n",
       "      <th>name</th>\n",
       "      <th>current_price</th>\n",
       "      <th>market_cap</th>\n",
       "      <th>total_volume</th>\n",
       "    </tr>\n",
       "  </thead>\n",
       "  <tbody>\n",
       "    <tr>\n",
       "      <th>0</th>\n",
       "      <td>gmx</td>\n",
       "      <td>GMX</td>\n",
       "      <td>36.670000</td>\n",
       "      <td>329034288</td>\n",
       "      <td>9052370</td>\n",
       "    </tr>\n",
       "    <tr>\n",
       "      <th>1</th>\n",
       "      <td>gnosis</td>\n",
       "      <td>Gnosis</td>\n",
       "      <td>100.450000</td>\n",
       "      <td>259512909</td>\n",
       "      <td>1097621</td>\n",
       "    </tr>\n",
       "    <tr>\n",
       "      <th>2</th>\n",
       "      <td>gala</td>\n",
       "      <td>GALA</td>\n",
       "      <td>0.019196</td>\n",
       "      <td>492611301</td>\n",
       "      <td>508441627</td>\n",
       "    </tr>\n",
       "    <tr>\n",
       "      <th>3</th>\n",
       "      <td>harmony</td>\n",
       "      <td>Harmony</td>\n",
       "      <td>0.009947</td>\n",
       "      <td>122342865</td>\n",
       "      <td>8215511</td>\n",
       "    </tr>\n",
       "    <tr>\n",
       "      <th>4</th>\n",
       "      <td>everscale</td>\n",
       "      <td>Everscale</td>\n",
       "      <td>0.052540</td>\n",
       "      <td>94690938</td>\n",
       "      <td>3158210</td>\n",
       "    </tr>\n",
       "    <tr>\n",
       "      <th>...</th>\n",
       "      <td>...</td>\n",
       "      <td>...</td>\n",
       "      <td>...</td>\n",
       "      <td>...</td>\n",
       "      <td>...</td>\n",
       "    </tr>\n",
       "    <tr>\n",
       "      <th>95</th>\n",
       "      <td>binance-usd</td>\n",
       "      <td>Binance USD</td>\n",
       "      <td>0.999226</td>\n",
       "      <td>3148270083</td>\n",
       "      <td>2565184079</td>\n",
       "    </tr>\n",
       "    <tr>\n",
       "      <th>96</th>\n",
       "      <td>chiliz</td>\n",
       "      <td>Chiliz</td>\n",
       "      <td>0.062648</td>\n",
       "      <td>437158297</td>\n",
       "      <td>21968699</td>\n",
       "    </tr>\n",
       "    <tr>\n",
       "      <th>97</th>\n",
       "      <td>optimism</td>\n",
       "      <td>Optimism</td>\n",
       "      <td>1.500000</td>\n",
       "      <td>1077775528</td>\n",
       "      <td>137630909</td>\n",
       "    </tr>\n",
       "    <tr>\n",
       "      <th>98</th>\n",
       "      <td>sushi</td>\n",
       "      <td>Sushi</td>\n",
       "      <td>0.575555</td>\n",
       "      <td>111065262</td>\n",
       "      <td>15659196</td>\n",
       "    </tr>\n",
       "    <tr>\n",
       "      <th>99</th>\n",
       "      <td>tominet</td>\n",
       "      <td>tomiNet</td>\n",
       "      <td>2.620000</td>\n",
       "      <td>195215024</td>\n",
       "      <td>22168968</td>\n",
       "    </tr>\n",
       "  </tbody>\n",
       "</table>\n",
       "<p>100 rows × 5 columns</p>\n",
       "</div>"
      ],
      "text/plain": [
       "             id         name  current_price  market_cap  total_volume\n",
       "0           gmx          GMX      36.670000   329034288       9052370\n",
       "1        gnosis       Gnosis     100.450000   259512909       1097621\n",
       "2          gala         GALA       0.019196   492611301     508441627\n",
       "3       harmony      Harmony       0.009947   122342865       8215511\n",
       "4     everscale    Everscale       0.052540    94690938       3158210\n",
       "..          ...          ...            ...         ...           ...\n",
       "95  binance-usd  Binance USD       0.999226  3148270083    2565184079\n",
       "96       chiliz       Chiliz       0.062648   437158297      21968699\n",
       "97     optimism     Optimism       1.500000  1077775528     137630909\n",
       "98        sushi        Sushi       0.575555   111065262      15659196\n",
       "99      tominet      tomiNet       2.620000   195215024      22168968\n",
       "\n",
       "[100 rows x 5 columns]"
      ]
     },
     "execution_count": 9,
     "metadata": {},
     "output_type": "execute_result"
    }
   ],
   "source": [
    "# Número de monedas a seleccionar aleatoriamente ('N')\n",
    "#========================================\n",
    "N = 100                                    ### Total de Monedas a Seleccionar Aleatoriamente.\n",
    "#========================================\n",
    "\n",
    "# Seleccionar \"N\" monedas aleatoriamente de las 100 previamente seleccionadas\n",
    "monedasAleatorias = random.sample(MonedasOrdenadas, N)\n",
    "\n",
    "# Obtener los IDs de las monedas seleccionadas\n",
    "ListaMonedas = [coin['id'] for coin in monedasAleatorias]\n",
    "Monedas = {'Criptomonedas':ListaMonedas}\n",
    "Monedas_Seleccionadas_df = pd.DataFrame(Monedas) \n",
    "\n",
    "# Guardando las Monedas Seleccionadas en el DataSets para poder ser leidas desde el EDA.\n",
    "Monedas_Seleccionadas_df.to_csv('../DataSets/Monedas_Seleccionadas_df.csv', index=False)\n",
    "\n",
    "print(\"IDs de las 100 monedas finalmente seleccionadas:\")\n",
    "print(ListaMonedas)\n",
    "\n",
    "### Convertir Lista de Monedas a Dataframe\n",
    "df = pd.DataFrame(monedasAleatorias)\n",
    "\n",
    "df[['id','name','current_price','market_cap','total_volume']]\n"
   ]
  },
  {
   "cell_type": "markdown",
   "metadata": {},
   "source": [
    "### 1.2. Carga del Historial (3 años) de las Metricas de las Monedas Seleccionadas."
   ]
  },
  {
   "cell_type": "markdown",
   "metadata": {},
   "source": [
    "1.  Obteniendo el Historial de la Métrica: Precio Diario"
   ]
  },
  {
   "cell_type": "code",
   "execution_count": 12,
   "metadata": {},
   "outputs": [
    {
     "name": "stdout",
     "output_type": "stream",
     "text": [
      "Index(['price', 'id', 'name', 'symbol', 'Open', 'High', 'Low', 'Close'], dtype='object')\n"
     ]
    }
   ],
   "source": [
    "### Obteniendo el Historial de la Métrica: Precio Diario.\n",
    "\n",
    "### Crear una instancia de CoinGeckoAPI\n",
    "cg = CoinGeckoAPI()\n",
    "\n",
    "# Obtener datos históricos de 365 días de CoinGecko para las criptomonedas seleccionadas\n",
    "historical_data = {}\n",
    "for coin_id in ListaMonedas:\n",
    "    coin_data = cg.get_coin_market_chart_range_by_id(id=coin_id, vs_currency='usd', from_timestamp=int((datetime.now() - timedelta(days=365*3)).timestamp()), to_timestamp=int(datetime.now().timestamp()))\n",
    "    historical_data[coin_id] = coin_data\n",
    "\n",
    "# Crear un DataFrame a partir de los datos históricos\n",
    "dataframes = []\n",
    "for coin_id, data in historical_data.items():\n",
    "    df = pd.DataFrame(data['prices'], columns=[\"timestamp\", \"price\"])\n",
    "    df[\"timestamp\"] = pd.to_datetime(df[\"timestamp\"], unit=\"ms\")\n",
    "    df.set_index(\"timestamp\", inplace=True)\n",
    "    \n",
    "    # Agregar columnas de ID, nombre y símbolo\n",
    "    coin_info = cg.get_coin_by_id(coin_id)\n",
    "    df[\"id\"] = coin_id\n",
    "    df[\"name\"] = coin_info[\"name\"]\n",
    "    df[\"symbol\"] = coin_info[\"symbol\"]\n",
    "    \n",
    "    # Calcular valores de Open, High, Low y Close\n",
    "    df['Open'] = df['price'].shift(1)  # Valor de ayer como Open de hoy\n",
    "    df['High'] = df[['Open', 'price']].max(axis=1)  # Máximo entre Open y precio\n",
    "    df['Low'] = df[['Open', 'price']].min(axis=1)   # Mínimo entre Open y precio\n",
    "    df['Close'] = df['price']  # Precio de cierre es el propio precio\n",
    "    \n",
    "    dataframes.append(df)\n",
    "\n",
    "# Combinar los DataFrames en uno solo\n",
    "Precios_df2 = pd.concat(dataframes)\n",
    "\n",
    "# Guardar el DataFrame como archivo CSV para ser leido desde el EDA\n",
    "#Precios_df2.to_csv('../DataSets/PowerBI/DatosORG_3Anos.csv', sep=',')\n",
    "print(Precios_df2.columns)\n",
    "\n"
   ]
  },
  {
   "cell_type": "code",
   "execution_count": 29,
   "metadata": {},
   "outputs": [
    {
     "name": "stdout",
     "output_type": "stream",
     "text": [
      "<class 'pandas.core.frame.DataFrame'>\n",
      "DatetimeIndex: 90766 entries, 2021-09-13 00:00:00 to 2023-08-25 00:00:00\n",
      "Data columns (total 8 columns):\n",
      " #   Column  Non-Null Count  Dtype  \n",
      "---  ------  --------------  -----  \n",
      " 0   price   90766 non-null  float64\n",
      " 1   id      90766 non-null  object \n",
      " 2   name    90766 non-null  object \n",
      " 3   symbol  90766 non-null  object \n",
      " 4   Open    90666 non-null  float64\n",
      " 5   High    90766 non-null  float64\n",
      " 6   Low     90766 non-null  float64\n",
      " 7   Close   90766 non-null  float64\n",
      "dtypes: float64(5), object(3)\n",
      "memory usage: 6.2+ MB\n"
     ]
    }
   ],
   "source": [
    "### Información del Datsets.\n",
    "Precios_df2.info()"
   ]
  },
  {
   "cell_type": "markdown",
   "metadata": {},
   "source": [
    "2.  Obteniendo el Historial de la Métrica: Capitalización de Mercado Diario"
   ]
  },
  {
   "cell_type": "code",
   "execution_count": 21,
   "metadata": {},
   "outputs": [
    {
     "name": "stdout",
     "output_type": "stream",
     "text": [
      "Index(['market_cap', 'id', 'name', 'symbol'], dtype='object')\n"
     ]
    }
   ],
   "source": [
    "### Obteniendo el Historial de la Métrica: Capitalización de Mercadp Diario.\n",
    "\n",
    "# Crear una instancia de CoinGeckoAPI\n",
    "cg = CoinGeckoAPI()\n",
    "\n",
    "# Obtener datos históricos de 365 días de CoinGecko para las criptomonedas seleccionadas\n",
    "historical_data = {}\n",
    "for coin_id in ListaMonedas:\n",
    "    coin_data = cg.get_coin_market_chart_range_by_id(id=coin_id, vs_currency='usd', from_timestamp=int((datetime.now() - timedelta(days=365*3)).timestamp()), to_timestamp=int(datetime.now().timestamp()))\n",
    "    historical_data[coin_id] = coin_data\n",
    "\n",
    "# Crear un DataFrame a partir de los datos históricos\n",
    "dataframes = []\n",
    "for coin_id, data in historical_data.items():\n",
    "    df = pd.DataFrame(data['market_caps'], columns=[\"timestamp\", \"market_cap\"])\n",
    "    df[\"timestamp\"] = pd.to_datetime(df[\"timestamp\"], unit=\"ms\")\n",
    "    df.set_index(\"timestamp\", inplace=True)\n",
    "    \n",
    "    # Agregar columnas de ID, nombre y símbolo\n",
    "    coin_info = cg.get_coin_by_id(coin_id)\n",
    "    df[\"id\"] = coin_id\n",
    "    df[\"name\"] = coin_info[\"name\"]\n",
    "    df[\"symbol\"] = coin_info[\"symbol\"]\n",
    "    \n",
    "    dataframes.append(df)\n",
    "\n",
    "# Combinar los DataFrames en uno solo\n",
    "CapitalizacionMercados_df = pd.concat(dataframes)\n",
    "\n",
    "# Guardar el DataFrame como archivo CSV para ser leido desde el EDA\n",
    "#CapitalizacionMercados_df.to_csv('../DataSets/CapitalizacionMercados_df.csv', sep=',')\n",
    "print(CapitalizacionMercados_df.columns)"
   ]
  },
  {
   "cell_type": "code",
   "execution_count": 28,
   "metadata": {},
   "outputs": [
    {
     "name": "stdout",
     "output_type": "stream",
     "text": [
      "<class 'pandas.core.frame.DataFrame'>\n",
      "DatetimeIndex: 90766 entries, 2021-09-13 00:00:00 to 2023-08-25 00:00:00\n",
      "Data columns (total 4 columns):\n",
      " #   Column      Non-Null Count  Dtype  \n",
      "---  ------      --------------  -----  \n",
      " 0   market_cap  90766 non-null  float64\n",
      " 1   id          90766 non-null  object \n",
      " 2   name        90766 non-null  object \n",
      " 3   symbol      90766 non-null  object \n",
      "dtypes: float64(1), object(3)\n",
      "memory usage: 3.5+ MB\n"
     ]
    }
   ],
   "source": [
    "### Información del Datsets.\n",
    "CapitalizacionMercados_df.info()"
   ]
  },
  {
   "cell_type": "markdown",
   "metadata": {},
   "source": [
    "3.  Obteniendo el Historial de la Métrica: Volumen de Negociación Diario."
   ]
  },
  {
   "cell_type": "code",
   "execution_count": 24,
   "metadata": {},
   "outputs": [
    {
     "name": "stdout",
     "output_type": "stream",
     "text": [
      "Index(['total_volumen', 'id', 'name', 'symbol'], dtype='object')\n"
     ]
    }
   ],
   "source": [
    "### Obteniendo el Historial de la Métrica: Volumen de Negociación Diario.\n",
    "\n",
    "# Crear una instancia de CoinGeckoAPI\n",
    "cg = CoinGeckoAPI()\n",
    "\n",
    "# Obtener datos históricos de 365 días de CoinGecko para las criptomonedas seleccionadas\n",
    "historical_data = {}\n",
    "for coin_id in ListaMonedas:\n",
    "    coin_data = cg.get_coin_market_chart_range_by_id(id=coin_id, vs_currency='usd', from_timestamp=int((datetime.now() - timedelta(days=365*3)).timestamp()), to_timestamp=int(datetime.now().timestamp()))\n",
    "    historical_data[coin_id] = coin_data\n",
    "\n",
    "# Crear un DataFrame a partir de los datos históricos\n",
    "dataframes = []\n",
    "for coin_id, data in historical_data.items():\n",
    "    df = pd.DataFrame(data['total_volumes'], columns=[\"timestamp\", \"total_volumen\"])\n",
    "    df[\"timestamp\"] = pd.to_datetime(df[\"timestamp\"], unit=\"ms\")\n",
    "    df.set_index(\"timestamp\", inplace=True)\n",
    "    \n",
    "    # Agregar columnas de ID, nombre y símbolo\n",
    "    coin_info = cg.get_coin_by_id(coin_id)\n",
    "    df[\"id\"] = coin_id\n",
    "    df[\"name\"] = coin_info[\"name\"]\n",
    "    df[\"symbol\"] = coin_info[\"symbol\"]\n",
    "    \n",
    "    dataframes.append(df)\n",
    "\n",
    "# Combinar los DataFrames en uno solo\n",
    "VolumenNegociacion_df = pd.concat(dataframes)\n",
    "\n",
    "# Guardar el DataFrame como archivo CSV para ser leido desde el EDA\n",
    "VolumenNegociacion_df.to_csv('../DataSets/VolumenNegociacion_df.csv', sep=',')\n",
    "print(VolumenNegociacion_df.columns)"
   ]
  },
  {
   "cell_type": "code",
   "execution_count": 27,
   "metadata": {},
   "outputs": [
    {
     "name": "stdout",
     "output_type": "stream",
     "text": [
      "<class 'pandas.core.frame.DataFrame'>\n",
      "DatetimeIndex: 90766 entries, 2021-09-13 00:00:00 to 2023-08-25 00:00:00\n",
      "Data columns (total 4 columns):\n",
      " #   Column         Non-Null Count  Dtype  \n",
      "---  ------         --------------  -----  \n",
      " 0   total_volumen  90766 non-null  float64\n",
      " 1   id             90766 non-null  object \n",
      " 2   name           90766 non-null  object \n",
      " 3   symbol         90766 non-null  object \n",
      "dtypes: float64(1), object(3)\n",
      "memory usage: 3.5+ MB\n"
     ]
    }
   ],
   "source": [
    "### Información del Datsets.\n",
    "VolumenNegociacion_df.info()"
   ]
  },
  {
   "cell_type": "markdown",
   "metadata": {},
   "source": [
    "### 1.3.  Union de los 3 DataSets en uno Solo, llamado: 'DatosTotal_df'"
   ]
  },
  {
   "cell_type": "code",
   "execution_count": 32,
   "metadata": {},
   "outputs": [
    {
     "data": {
      "text/html": [
       "<div>\n",
       "<style scoped>\n",
       "    .dataframe tbody tr th:only-of-type {\n",
       "        vertical-align: middle;\n",
       "    }\n",
       "\n",
       "    .dataframe tbody tr th {\n",
       "        vertical-align: top;\n",
       "    }\n",
       "\n",
       "    .dataframe thead th {\n",
       "        text-align: right;\n",
       "    }\n",
       "</style>\n",
       "<table border=\"1\" class=\"dataframe\">\n",
       "  <thead>\n",
       "    <tr style=\"text-align: right;\">\n",
       "      <th></th>\n",
       "      <th>price</th>\n",
       "      <th>id</th>\n",
       "      <th>name</th>\n",
       "      <th>symbol</th>\n",
       "      <th>Open</th>\n",
       "      <th>High</th>\n",
       "      <th>Low</th>\n",
       "      <th>Close</th>\n",
       "      <th>market_cap</th>\n",
       "      <th>total_volumen</th>\n",
       "    </tr>\n",
       "    <tr>\n",
       "      <th>timestamp</th>\n",
       "      <th></th>\n",
       "      <th></th>\n",
       "      <th></th>\n",
       "      <th></th>\n",
       "      <th></th>\n",
       "      <th></th>\n",
       "      <th></th>\n",
       "      <th></th>\n",
       "      <th></th>\n",
       "      <th></th>\n",
       "    </tr>\n",
       "  </thead>\n",
       "  <tbody>\n",
       "    <tr>\n",
       "      <th>2021-09-13</th>\n",
       "      <td>15.732550</td>\n",
       "      <td>gmx</td>\n",
       "      <td>GMX</td>\n",
       "      <td>gmx</td>\n",
       "      <td>NaN</td>\n",
       "      <td>15.732550</td>\n",
       "      <td>15.732550</td>\n",
       "      <td>15.732550</td>\n",
       "      <td>0.000000e+00</td>\n",
       "      <td>1.297668e+05</td>\n",
       "    </tr>\n",
       "    <tr>\n",
       "      <th>2021-09-14</th>\n",
       "      <td>15.732550</td>\n",
       "      <td>gmx</td>\n",
       "      <td>GMX</td>\n",
       "      <td>gmx</td>\n",
       "      <td>15.732550</td>\n",
       "      <td>15.732550</td>\n",
       "      <td>15.732550</td>\n",
       "      <td>15.732550</td>\n",
       "      <td>0.000000e+00</td>\n",
       "      <td>1.297668e+05</td>\n",
       "    </tr>\n",
       "    <tr>\n",
       "      <th>2021-09-15</th>\n",
       "      <td>21.062166</td>\n",
       "      <td>gmx</td>\n",
       "      <td>GMX</td>\n",
       "      <td>gmx</td>\n",
       "      <td>15.732550</td>\n",
       "      <td>21.062166</td>\n",
       "      <td>15.732550</td>\n",
       "      <td>21.062166</td>\n",
       "      <td>0.000000e+00</td>\n",
       "      <td>2.164767e+05</td>\n",
       "    </tr>\n",
       "    <tr>\n",
       "      <th>2021-09-16</th>\n",
       "      <td>22.646664</td>\n",
       "      <td>gmx</td>\n",
       "      <td>GMX</td>\n",
       "      <td>gmx</td>\n",
       "      <td>21.062166</td>\n",
       "      <td>22.646664</td>\n",
       "      <td>21.062166</td>\n",
       "      <td>22.646664</td>\n",
       "      <td>0.000000e+00</td>\n",
       "      <td>4.623126e+04</td>\n",
       "    </tr>\n",
       "    <tr>\n",
       "      <th>2021-09-17</th>\n",
       "      <td>20.643008</td>\n",
       "      <td>gmx</td>\n",
       "      <td>GMX</td>\n",
       "      <td>gmx</td>\n",
       "      <td>22.646664</td>\n",
       "      <td>22.646664</td>\n",
       "      <td>20.643008</td>\n",
       "      <td>20.643008</td>\n",
       "      <td>0.000000e+00</td>\n",
       "      <td>8.569191e+04</td>\n",
       "    </tr>\n",
       "    <tr>\n",
       "      <th>...</th>\n",
       "      <td>...</td>\n",
       "      <td>...</td>\n",
       "      <td>...</td>\n",
       "      <td>...</td>\n",
       "      <td>...</td>\n",
       "      <td>...</td>\n",
       "      <td>...</td>\n",
       "      <td>...</td>\n",
       "      <td>...</td>\n",
       "      <td>...</td>\n",
       "    </tr>\n",
       "    <tr>\n",
       "      <th>2023-08-21</th>\n",
       "      <td>2.238064</td>\n",
       "      <td>tominet</td>\n",
       "      <td>tomiNet</td>\n",
       "      <td>tomi</td>\n",
       "      <td>2.167387</td>\n",
       "      <td>2.238064</td>\n",
       "      <td>2.167387</td>\n",
       "      <td>2.238064</td>\n",
       "      <td>1.665534e+08</td>\n",
       "      <td>1.902348e+07</td>\n",
       "    </tr>\n",
       "    <tr>\n",
       "      <th>2023-08-22</th>\n",
       "      <td>2.270774</td>\n",
       "      <td>tominet</td>\n",
       "      <td>tomiNet</td>\n",
       "      <td>tomi</td>\n",
       "      <td>2.238064</td>\n",
       "      <td>2.270774</td>\n",
       "      <td>2.238064</td>\n",
       "      <td>2.270774</td>\n",
       "      <td>1.691172e+08</td>\n",
       "      <td>1.769247e+07</td>\n",
       "    </tr>\n",
       "    <tr>\n",
       "      <th>2023-08-23</th>\n",
       "      <td>2.241901</td>\n",
       "      <td>tominet</td>\n",
       "      <td>tomiNet</td>\n",
       "      <td>tomi</td>\n",
       "      <td>2.270774</td>\n",
       "      <td>2.270774</td>\n",
       "      <td>2.241901</td>\n",
       "      <td>2.241901</td>\n",
       "      <td>1.672254e+08</td>\n",
       "      <td>1.868110e+07</td>\n",
       "    </tr>\n",
       "    <tr>\n",
       "      <th>2023-08-24</th>\n",
       "      <td>2.401253</td>\n",
       "      <td>tominet</td>\n",
       "      <td>tomiNet</td>\n",
       "      <td>tomi</td>\n",
       "      <td>2.241901</td>\n",
       "      <td>2.401253</td>\n",
       "      <td>2.241901</td>\n",
       "      <td>2.401253</td>\n",
       "      <td>1.790651e+08</td>\n",
       "      <td>1.784047e+07</td>\n",
       "    </tr>\n",
       "    <tr>\n",
       "      <th>2023-08-25</th>\n",
       "      <td>2.492213</td>\n",
       "      <td>tominet</td>\n",
       "      <td>tomiNet</td>\n",
       "      <td>tomi</td>\n",
       "      <td>2.401253</td>\n",
       "      <td>2.492213</td>\n",
       "      <td>2.401253</td>\n",
       "      <td>2.492213</td>\n",
       "      <td>1.858192e+08</td>\n",
       "      <td>2.165122e+07</td>\n",
       "    </tr>\n",
       "  </tbody>\n",
       "</table>\n",
       "<p>90766 rows × 10 columns</p>\n",
       "</div>"
      ],
      "text/plain": [
       "                price       id     name symbol       Open       High  \\\n",
       "timestamp                                                              \n",
       "2021-09-13  15.732550      gmx      GMX    gmx        NaN  15.732550   \n",
       "2021-09-14  15.732550      gmx      GMX    gmx  15.732550  15.732550   \n",
       "2021-09-15  21.062166      gmx      GMX    gmx  15.732550  21.062166   \n",
       "2021-09-16  22.646664      gmx      GMX    gmx  21.062166  22.646664   \n",
       "2021-09-17  20.643008      gmx      GMX    gmx  22.646664  22.646664   \n",
       "...               ...      ...      ...    ...        ...        ...   \n",
       "2023-08-21   2.238064  tominet  tomiNet   tomi   2.167387   2.238064   \n",
       "2023-08-22   2.270774  tominet  tomiNet   tomi   2.238064   2.270774   \n",
       "2023-08-23   2.241901  tominet  tomiNet   tomi   2.270774   2.270774   \n",
       "2023-08-24   2.401253  tominet  tomiNet   tomi   2.241901   2.401253   \n",
       "2023-08-25   2.492213  tominet  tomiNet   tomi   2.401253   2.492213   \n",
       "\n",
       "                  Low      Close    market_cap  total_volumen  \n",
       "timestamp                                                      \n",
       "2021-09-13  15.732550  15.732550  0.000000e+00   1.297668e+05  \n",
       "2021-09-14  15.732550  15.732550  0.000000e+00   1.297668e+05  \n",
       "2021-09-15  15.732550  21.062166  0.000000e+00   2.164767e+05  \n",
       "2021-09-16  21.062166  22.646664  0.000000e+00   4.623126e+04  \n",
       "2021-09-17  20.643008  20.643008  0.000000e+00   8.569191e+04  \n",
       "...               ...        ...           ...            ...  \n",
       "2023-08-21   2.167387   2.238064  1.665534e+08   1.902348e+07  \n",
       "2023-08-22   2.238064   2.270774  1.691172e+08   1.769247e+07  \n",
       "2023-08-23   2.241901   2.241901  1.672254e+08   1.868110e+07  \n",
       "2023-08-24   2.241901   2.401253  1.790651e+08   1.784047e+07  \n",
       "2023-08-25   2.401253   2.492213  1.858192e+08   2.165122e+07  \n",
       "\n",
       "[90766 rows x 10 columns]"
      ]
     },
     "execution_count": 32,
     "metadata": {},
     "output_type": "execute_result"
    }
   ],
   "source": [
    "DatosCriptos = Precios_df2.merge(CapitalizacionMercados_df, on=['id', 'name', 'symbol', 'timestamp'])\n",
    "DatosCriptos = DatosCriptos.merge(VolumenNegociacion_df, on=['id', 'name', 'symbol', 'timestamp'])\n",
    "\n",
    "# Resetea los índices\n",
    "#DatosTotal_df = DatosTotal_df.reset_index(drop=True)\n",
    "\n",
    "# Guardar el DataFrame DatosTotal_df como archivo CSV para ser leido desde el EDA\n",
    "DatosCriptos.to_csv('../DataSets/DatosCriptos.csv',  index=True, sep=',')\n",
    "\n",
    "# Muestra el DataFrame combinado con el nuevo índice 'timestamp'\n",
    "DatosCriptos"
   ]
  },
  {
   "cell_type": "code",
   "execution_count": 33,
   "metadata": {},
   "outputs": [
    {
     "name": "stdout",
     "output_type": "stream",
     "text": [
      "<class 'pandas.core.frame.DataFrame'>\n",
      "DatetimeIndex: 90766 entries, 2021-09-13 00:00:00 to 2023-08-25 00:00:00\n",
      "Data columns (total 10 columns):\n",
      " #   Column         Non-Null Count  Dtype  \n",
      "---  ------         --------------  -----  \n",
      " 0   price          90766 non-null  float64\n",
      " 1   id             90766 non-null  object \n",
      " 2   name           90766 non-null  object \n",
      " 3   symbol         90766 non-null  object \n",
      " 4   Open           90666 non-null  float64\n",
      " 5   High           90766 non-null  float64\n",
      " 6   Low            90766 non-null  float64\n",
      " 7   Close          90766 non-null  float64\n",
      " 8   market_cap     90766 non-null  float64\n",
      " 9   total_volumen  90766 non-null  float64\n",
      "dtypes: float64(7), object(3)\n",
      "memory usage: 7.6+ MB\n"
     ]
    }
   ],
   "source": [
    "DatosCriptos.info()"
   ]
  },
  {
   "cell_type": "markdown",
   "metadata": {},
   "source": [
    "Informacion del DataFrame (DatosCriptos) con los Datos Históricos"
   ]
  },
  {
   "cell_type": "code",
   "execution_count": 35,
   "metadata": {},
   "outputs": [
    {
     "name": "stdout",
     "output_type": "stream",
     "text": [
      "Cantidad de Columnas del DataFrame Historico:  10\n",
      "Columnas del DataFrame Historico:  Index(['price', 'id', 'name', 'symbol', 'Open', 'High', 'Low', 'Close',\n",
      "       'market_cap', 'total_volumen'],\n",
      "      dtype='object')\n",
      "Dimensiones del DataFrame Historico:  (90766, 10)\n"
     ]
    }
   ],
   "source": [
    "### Cantidad de Columnas del DataFrame\n",
    "print(\"Cantidad de Columnas del DataFrame Historico: \", len(DatosCriptos.columns))\n",
    "print(\"Columnas del DataFrame Historico: \", DatosCriptos.columns)\n",
    "### Dimensiones de DataFrame\n",
    "print(\"Dimensiones del DataFrame Historico: \", DatosCriptos.shape)"
   ]
  },
  {
   "cell_type": "markdown",
   "metadata": {},
   "source": [
    "Nota: El Dataframe tiene el 'timestamp' como indice. Pero al cargarlos en el EDA, se visualizará como otra columnas adiciona. <br> \n",
    "Dicha columna, será configurada en muchos casos, como índice principal, ya que estaremos trabajando con Series de Tiempo; que es la naturaleza principal del presente Proyecto de CriptoMonedas."
   ]
  },
  {
   "cell_type": "markdown",
   "metadata": {},
   "source": [
    "### Fin del ETC"
   ]
  },
  {
   "cell_type": "markdown",
   "metadata": {},
   "source": [
    "## 2. Analisis Exploratorios de los Datos (EDA)"
   ]
  },
  {
   "cell_type": "markdown",
   "metadata": {},
   "source": [
    "El archivo del EDA (EDA_Criptomonedas.ipynb) se encuentra en la carpeta de nombre 'EDA'."
   ]
  }
 ],
 "metadata": {
  "kernelspec": {
   "display_name": "Python 3",
   "language": "python",
   "name": "python3"
  },
  "language_info": {
   "codemirror_mode": {
    "name": "ipython",
    "version": 3
   },
   "file_extension": ".py",
   "mimetype": "text/x-python",
   "name": "python",
   "nbconvert_exporter": "python",
   "pygments_lexer": "ipython3",
   "version": "3.11.3"
  },
  "orig_nbformat": 4
 },
 "nbformat": 4,
 "nbformat_minor": 2
}
